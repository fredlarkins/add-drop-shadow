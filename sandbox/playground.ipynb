{
 "cells": [
  {
   "cell_type": "code",
   "execution_count": 1,
   "metadata": {},
   "outputs": [],
   "source": [
    "from selenium.webdriver import Firefox\n",
    "from selenium.webdriver.common.by import By\n",
    "from selenium.webdriver.support.ui import WebDriverWait\n",
    "from selenium.webdriver.support import expected_conditions as EC\n",
    "import shutil\n",
    "import requests\n",
    "from selenium.webdriver.firefox.options import Options"
   ]
  },
  {
   "cell_type": "code",
   "execution_count": 2,
   "metadata": {},
   "outputs": [],
   "source": [
    "options = Options()\n",
    "options.headless = True\n",
    "browser = Firefox(options=options)"
   ]
  },
  {
   "cell_type": "code",
   "execution_count": 3,
   "metadata": {},
   "outputs": [
    {
     "name": "stdout",
     "output_type": "stream",
     "text": [
      "Successfully located input.\n",
      "Image uploaded successfully.\n"
     ]
    }
   ],
   "source": [
    "\n",
    "browser.get('https://fontmeme.com/shadow-effect/')\n",
    "file = 'C:\\\\Users\\\\Freddie.Larkins\\\\Documents\\\\add-drop-shadow\\\\profile.png'\n",
    "try:\n",
    "    image_input = WebDriverWait(\n",
    "        driver=browser,\n",
    "        timeout=10\n",
    "    ).until(\n",
    "        EC.presence_of_element_located(\n",
    "            (By.XPATH, '//input[@type=\"file\"]')\n",
    "        )\n",
    "    )\n",
    "    image_input.send_keys(file)\n",
    "    print('Successfully located input.')\n",
    "except:\n",
    "    print('No input found!')\n",
    "    \n",
    "try:\n",
    "    clear_me_button = WebDriverWait(\n",
    "        driver=browser,\n",
    "        timeout=20\n",
    "    ).until(\n",
    "        EC.element_to_be_clickable(\n",
    "            (By.XPATH, '//*[@id=\"clearme\"]')\n",
    "        )\n",
    "    )\n",
    "    print('Image uploaded successfully.')\n",
    "except:\n",
    "    print('Image did not upload!')"
   ]
  },
  {
   "cell_type": "code",
   "execution_count": 4,
   "metadata": {},
   "outputs": [],
   "source": [
    "colour_selector = browser.find_element(By.XPATH, '//*[@id=\"colorSelector\"]')\n",
    "colour_selector.click()"
   ]
  },
  {
   "cell_type": "code",
   "execution_count": 5,
   "metadata": {},
   "outputs": [],
   "source": [
    "grey = browser.find_element(By.CSS_SELECTOR, 'div.jscolor-palette-sample:nth-child(29) > div:nth-child(1)')\n",
    "grey.click()"
   ]
  },
  {
   "cell_type": "code",
   "execution_count": 6,
   "metadata": {},
   "outputs": [],
   "source": [
    "preset_dropdown = browser.find_element(By.XPATH, '//*[@id=\"effect_a_title\"]')\n",
    "preset_dropdown.click()"
   ]
  },
  {
   "cell_type": "code",
   "execution_count": 7,
   "metadata": {},
   "outputs": [],
   "source": [
    "preset_B = browser.find_element(By.XPATH, '/html/body/div[2]/div[2]/div[1]/div/div[4]/div/div/div[3]/div[2]/ul/li[2]/span')\n",
    "preset_B.click()"
   ]
  },
  {
   "cell_type": "code",
   "execution_count": 8,
   "metadata": {},
   "outputs": [],
   "source": [
    "try:\n",
    "    generate_button = WebDriverWait(\n",
    "        browser,\n",
    "        60\n",
    "    ).until(\n",
    "        EC.element_to_be_clickable(\n",
    "            (By.CSS_SELECTOR, '.gradientred')\n",
    "    ))\n",
    "    #generate_button.click()\n",
    "except:\n",
    "    ('Timed out waiting for the image to generate!')"
   ]
  },
  {
   "cell_type": "code",
   "execution_count": 9,
   "metadata": {},
   "outputs": [],
   "source": [
    "try:\n",
    "    image = WebDriverWait(\n",
    "        browser,\n",
    "        45\n",
    "    ).until(\n",
    "        EC.visibility_of_element_located(\n",
    "            (By.XPATH, '//*[@id=\"text_image\"]')\n",
    "        )\n",
    "    )\n",
    "    url = image.get_attribute('src')\n",
    "except:\n",
    "    print('Image did not load properly!')"
   ]
  },
  {
   "cell_type": "code",
   "execution_count": 10,
   "metadata": {},
   "outputs": [
    {
     "name": "stdout",
     "output_type": "stream",
     "text": [
      "https://fontmeme.com/temporary/userlmn_716e9e61a93cb86552ef50218634835c.png\n"
     ]
    }
   ],
   "source": [
    "print(url)"
   ]
  },
  {
   "cell_type": "code",
   "execution_count": 11,
   "metadata": {},
   "outputs": [],
   "source": [
    "response = requests.get(url, stream=True)\n",
    "with open('img_optimised.png', 'wb') as out_file:\n",
    "    shutil.copyfileobj(response.raw, out_file)\n",
    "del response"
   ]
  }
 ],
 "metadata": {
  "interpreter": {
   "hash": "71ac5c5e79743d6c22a056343642b7cb7da2d93ad4f58379ed01b08f47c7ed55"
  },
  "kernelspec": {
   "display_name": "Python 3.10.2 64-bit",
   "language": "python",
   "name": "python3"
  },
  "language_info": {
   "codemirror_mode": {
    "name": "ipython",
    "version": 3
   },
   "file_extension": ".py",
   "mimetype": "text/x-python",
   "name": "python",
   "nbconvert_exporter": "python",
   "pygments_lexer": "ipython3",
   "version": "3.10.2"
  },
  "orig_nbformat": 4
 },
 "nbformat": 4,
 "nbformat_minor": 2
}
